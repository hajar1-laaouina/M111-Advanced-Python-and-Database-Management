{
  "cells": [
    {
      "cell_type": "markdown",
      "metadata": {
        "id": "jT28a-enOini"
      },
      "source": [
        "# Exercices for Numpy"
      ]
    },
    {
      "cell_type": "markdown",
      "metadata": {
        "id": "QEGF-lw9Oins"
      },
      "source": [
        "1- Import numpy as `np` and print the version number. "
      ]
    },
    {
      "cell_type": "code",
      "execution_count": 1,
      "metadata": {
        "id": "js2Qg5mTOinx",
        "outputId": "f293f42d-9841-4ded-eb08-498618fe3b89",
        "colab": {
          "base_uri": "https://localhost:8080/"
        }
      },
      "outputs": [
        {
          "output_type": "stream",
          "name": "stdout",
          "text": [
            "1.21.6\n"
          ]
        }
      ],
      "source": [
        "# Your code here\n",
        "import numpy as np\n",
        "print(np.__version__)"
      ]
    },
    {
      "cell_type": "markdown",
      "metadata": {
        "id": "v4k_ZqtsOinz"
      },
      "source": [
        "2- Create a 1D array of numbers from 0 to 9 \n",
        "- Desired output:\n",
        "```Python\n",
        "#> array([0, 1, 2, 3, 4, 5, 6, 7, 8, 9])\n",
        "```"
      ]
    },
    {
      "cell_type": "code",
      "execution_count": 2,
      "metadata": {
        "id": "mxpaZiXLOin1",
        "outputId": "8edc961a-051a-47ea-9390-3973077a7f6e",
        "colab": {
          "base_uri": "https://localhost:8080/"
        }
      },
      "outputs": [
        {
          "output_type": "stream",
          "name": "stdout",
          "text": [
            "[0 1 2 3 4 5 6 7 8 9]\n"
          ]
        }
      ],
      "source": [
        "# Your code here\n",
        "a=np.arange(10)\n",
        "print(a)"
      ]
    },
    {
      "cell_type": "markdown",
      "metadata": {
        "id": "P2O-x6WQOin2"
      },
      "source": [
        "3- Create a 3×3 numpy array of all True’s\n",
        "- Desired output:\n",
        "```Python\n",
        "#> array([[ True,  True,  True],\n",
        "#>        [ True,  True,  True],\n",
        "#>        [ True,  True,  True]], dtype=bool)\n",
        "```"
      ]
    },
    {
      "cell_type": "code",
      "execution_count": 3,
      "metadata": {
        "id": "c8l71cWMOin3",
        "outputId": "58910bcb-0263-487f-a8bf-93828f773646",
        "colab": {
          "base_uri": "https://localhost:8080/"
        }
      },
      "outputs": [
        {
          "output_type": "stream",
          "name": "stdout",
          "text": [
            "[[ True  True  True]\n",
            " [ True  True  True]\n",
            " [ True  True  True]]\n"
          ]
        }
      ],
      "source": [
        "# Your code here\n",
        "mat=np.full((3,3),True)\n",
        "print(mat)"
      ]
    },
    {
      "cell_type": "markdown",
      "metadata": {
        "id": "3X0HjPigOin5"
      },
      "source": [
        "4- Extract all odd numbers from `arr` \n",
        "- Input:\n",
        "```Python\n",
        "#> arr = np.array([0, 1, 2, 3, 4, 5, 6, 7, 8, 9])\n",
        "```\n",
        "- Desired output:\n",
        "```Python\n",
        "#> array([1, 3, 5, 7, 9])\n",
        "```"
      ]
    },
    {
      "cell_type": "code",
      "execution_count": 4,
      "metadata": {
        "id": "GCpfAcZBOin6",
        "outputId": "fe20d127-3469-41d4-9807-63f2da3aaa58",
        "colab": {
          "base_uri": "https://localhost:8080/"
        }
      },
      "outputs": [
        {
          "output_type": "stream",
          "name": "stdout",
          "text": [
            "[1, 3, 5, 7, 9]\n"
          ]
        }
      ],
      "source": [
        "# Your code here\n",
        "arr = np.array([0, 1, 2, 3, 4, 5, 6, 7, 8, 9])\n",
        "oddarr=[]\n",
        "for ele in arr:\n",
        "    if (ele%2)!=0:\n",
        "        oddarr.append(ele)\n",
        "        \n",
        "print(oddarr)\n",
        "\n",
        "#we can also use \n",
        "# arr[arr%2==1]"
      ]
    },
    {
      "cell_type": "markdown",
      "metadata": {
        "id": "JTrM6hu5Oin8"
      },
      "source": [
        "5- Replace all odd numbers in arr with -1\n",
        "- Input:\n",
        "```Python\n",
        "#> arr = np.array([0, 1, 2, 3, 4, 5, 6, 7, 8, 9])\n",
        "```\n",
        "- Desired output:\n",
        "```Python\n",
        "#>  array([ 0, -1,  2, -1,  4, -1,  6, -1,  8, -1])\n",
        "```"
      ]
    },
    {
      "cell_type": "code",
      "execution_count": 5,
      "metadata": {
        "id": "oks-tg63OioA",
        "outputId": "64c3b62a-49f7-49c7-96ab-003618b1a246",
        "colab": {
          "base_uri": "https://localhost:8080/"
        }
      },
      "outputs": [
        {
          "output_type": "stream",
          "name": "stdout",
          "text": [
            "[ 0 -1  2 -1  4 -1  6 -1  8 -1]\n"
          ]
        }
      ],
      "source": [
        "# Your code here\n",
        "arr = np.array([0, 1, 2, 3, 4, 5, 6, 7, 8, 9])\n",
        "for ele in arr:\n",
        "    if(ele%2)!=0:\n",
        "        arr[ele]=-1\n",
        "print(arr)\n",
        "        "
      ]
    },
    {
      "cell_type": "markdown",
      "metadata": {
        "id": "HlHZDKzTOioB"
      },
      "source": [
        "6- Replace all odd numbers in arr with -1 without changing `arr` \n",
        "- Input:\n",
        "```Python\n",
        "#> arr = np.array([0, 1, 2, 3, 4, 5, 6, 7, 8, 9])\n",
        "```\n",
        "- Desired output:\n",
        "```Python\n",
        "out\n",
        "#>  array([ 0, -1,  2, -1,  4, -1,  6, -1,  8, -1])\n",
        "arr\n",
        "#>  array([0, 1, 2, 3, 4, 5, 6, 7, 8, 9])\n",
        "```"
      ]
    },
    {
      "cell_type": "code",
      "execution_count": 6,
      "metadata": {
        "id": "BC1ZUwuoOioD",
        "outputId": "6b547b6c-1f07-4028-98da-e769bca66493",
        "colab": {
          "base_uri": "https://localhost:8080/"
        }
      },
      "outputs": [
        {
          "output_type": "stream",
          "name": "stdout",
          "text": [
            "[[ 0 -1  2 -1  4 -1  6 -1  8 -1]]\n"
          ]
        },
        {
          "output_type": "execute_result",
          "data": {
            "text/plain": [
              "array([0, 1, 2, 3, 4, 5, 6, 7, 8, 9])"
            ]
          },
          "metadata": {},
          "execution_count": 6
        }
      ],
      "source": [
        "# Your code here\n",
        "arr = np.array([0, 1, 2, 3, 4, 5, 6, 7, 8, 9])\n",
        "out= np.where([arr % 2 == 1],-1,arr)\n",
        "print(out)\n",
        "arr"
      ]
    },
    {
      "cell_type": "markdown",
      "metadata": {
        "id": "nSXczYIJOioD"
      },
      "source": [
        "7- Convert a 1D array to a 2D array with 2 rows\n",
        "- Input:\n",
        "```Python\n",
        "#> arr = np.array([0, 1, 2, 3, 4, 5, 6, 7, 8, 9])\n",
        "```\n",
        "- Desired output:\n",
        "```Python\n",
        "#> array([[0, 1, 2, 3, 4],\n",
        "#>        [5, 6, 7, 8, 9]])\n",
        "```"
      ]
    },
    {
      "cell_type": "code",
      "execution_count": 7,
      "metadata": {
        "id": "qsMQgBOMOioE",
        "outputId": "8d8089a5-1cfe-412d-dff0-1a743e2f663f",
        "colab": {
          "base_uri": "https://localhost:8080/"
        }
      },
      "outputs": [
        {
          "output_type": "stream",
          "name": "stdout",
          "text": [
            "[[0 1 2 3 4]\n",
            " [5 6 7 8 9]]\n"
          ]
        }
      ],
      "source": [
        "# Your code here\n",
        "arr1 = arr.reshape(2,5)\n",
        "print(arr1)"
      ]
    },
    {
      "cell_type": "markdown",
      "metadata": {
        "id": "Q0kndkyqOioF"
      },
      "source": [
        "8- Stack arrays `a` and `b` vertically \n",
        "- Input\n",
        "```Python\n",
        "a = np.arange(10).reshape(2,-1)\n",
        "b = np.repeat(1, 10).reshape(2,-1)\n",
        "```\n",
        "- Desired output:\n",
        "```Python\n",
        "#> array([[0, 1, 2, 3, 4],\n",
        "#>        [5, 6, 7, 8, 9],\n",
        "#>        [1, 1, 1, 1, 1],\n",
        "#>        [1, 1, 1, 1, 1]])\n",
        "```"
      ]
    },
    {
      "cell_type": "code",
      "execution_count": 8,
      "metadata": {
        "id": "BfascEKcOioG",
        "outputId": "364953f3-f855-446d-91c5-93c0855d3b58",
        "colab": {
          "base_uri": "https://localhost:8080/"
        }
      },
      "outputs": [
        {
          "output_type": "execute_result",
          "data": {
            "text/plain": [
              "array([[0, 1, 2, 3, 4],\n",
              "       [5, 6, 7, 8, 9],\n",
              "       [1, 1, 1, 1, 1],\n",
              "       [1, 1, 1, 1, 1]])"
            ]
          },
          "metadata": {},
          "execution_count": 8
        }
      ],
      "source": [
        "# Your code here\n",
        "a = np.arange(10).reshape(2,-1)\n",
        "b = np.repeat(1, 10).reshape(2,-1)\n",
        "np.concatenate((a,b), axis=0)"
      ]
    },
    {
      "cell_type": "markdown",
      "metadata": {
        "id": "0pS_QpvxOipM"
      },
      "source": [
        "9- Stack the arrays a and b horizontally.\n",
        "- Input\n",
        "```Python\n",
        "a = np.arange(10).reshape(2,-1)\n",
        "b = np.repeat(1, 10).reshape(2,-1)\n",
        "```\n",
        "- Desired output:\n",
        "```Python\n",
        "#> array([[0, 1, 2, 3, 4, 1, 1, 1, 1, 1],\n",
        "#>        [5, 6, 7, 8, 9, 1, 1, 1, 1, 1]])\n",
        "```"
      ]
    },
    {
      "cell_type": "code",
      "execution_count": 9,
      "metadata": {
        "id": "wS9YA-YUOip3",
        "outputId": "0d0803a7-d859-43fd-9b12-2d4dd67ad2b6",
        "colab": {
          "base_uri": "https://localhost:8080/"
        }
      },
      "outputs": [
        {
          "output_type": "execute_result",
          "data": {
            "text/plain": [
              "array([[0, 1, 2, 3, 4, 1, 1, 1, 1, 1],\n",
              "       [5, 6, 7, 8, 9, 1, 1, 1, 1, 1]])"
            ]
          },
          "metadata": {},
          "execution_count": 9
        }
      ],
      "source": [
        "# Your code here\n",
        "a = np.arange(10).reshape(2,-1)\n",
        "b = np.repeat(1, 10).reshape(2,-1)\n",
        "np.concatenate((a,b),axis=1)"
      ]
    },
    {
      "cell_type": "markdown",
      "metadata": {
        "id": "d1cZBleaOip-"
      },
      "source": [
        "10- Get the common items between `a` and `b` \n",
        "- Input\n",
        "```Python\n",
        "a = np.array([1,2,3,4,5])\n",
        "b = np.array([5,6,7,8,9])\n",
        "```\n",
        "- Desired output:\n",
        "```Python\n",
        "#> array([2, 4])\n",
        "```"
      ]
    },
    {
      "cell_type": "code",
      "execution_count": 10,
      "metadata": {
        "id": "svMpmHwAOip-",
        "outputId": "bed3b5bc-7e32-4c8d-a555-63dbf1542248",
        "colab": {
          "base_uri": "https://localhost:8080/"
        }
      },
      "outputs": [
        {
          "output_type": "execute_result",
          "data": {
            "text/plain": [
              "array([5])"
            ]
          },
          "metadata": {},
          "execution_count": 10
        }
      ],
      "source": [
        "# Your code here\n",
        "a = np.array([1,2,3,4,5])\n",
        "b = np.array([5,6,7,8,9])\n",
        "np.intersect1d(a,b)"
      ]
    },
    {
      "cell_type": "markdown",
      "metadata": {
        "id": "jqwr6n59Oip_"
      },
      "source": [
        "11- From array `a` remove all items present in array `b` \n",
        "- Input\n",
        "```Python\n",
        "a = np.array([1,2,3,4,5])\n",
        "b = np.array([5,6,7,8,9])\n",
        "```\n",
        "- Desired output:\n",
        "```Python\n",
        "#> array([1,2,3,4])\n",
        "```"
      ]
    },
    {
      "cell_type": "code",
      "execution_count": 11,
      "metadata": {
        "id": "3dRfHmnNOiqA",
        "outputId": "34957f00-7312-4173-c14b-3e914313716d",
        "colab": {
          "base_uri": "https://localhost:8080/"
        }
      },
      "outputs": [
        {
          "output_type": "execute_result",
          "data": {
            "text/plain": [
              "array([1, 2, 3, 4])"
            ]
          },
          "metadata": {},
          "execution_count": 11
        }
      ],
      "source": [
        "# Your code here\n",
        "np.setdiff1d(a,b)"
      ]
    },
    {
      "cell_type": "markdown",
      "metadata": {
        "id": "7culY1rAOiqA"
      },
      "source": [
        "12- Get the positions where elements of `a` and `b` match\n",
        "- Input\n",
        "```Python\n",
        "a = np.array([1,2,3,2,3,4,3,4,5,6])\n",
        "b = np.array([7,2,10,2,7,4,9,4,9,8])\n",
        "```\n",
        "- Desired output:\n",
        "```Python\n",
        "#> (array([1, 3, 5, 7]),)\n",
        "```"
      ]
    },
    {
      "cell_type": "code",
      "execution_count": 12,
      "metadata": {
        "id": "a52LUBkPOiqC",
        "outputId": "560a009d-3f5b-44d6-999b-b115ec78a2b4",
        "colab": {
          "base_uri": "https://localhost:8080/"
        }
      },
      "outputs": [
        {
          "output_type": "execute_result",
          "data": {
            "text/plain": [
              "array([2, 2, 4, 4])"
            ]
          },
          "metadata": {},
          "execution_count": 12
        }
      ],
      "source": [
        "# Your code here\n",
        "a = np.array([1,2,3,2,3,4,3,4,5,6])\n",
        "b = np.array([7,2,10,2,7,4,9,4,9,8])\n",
        "a[np.where(a==b)]"
      ]
    },
    {
      "cell_type": "markdown",
      "metadata": {
        "id": "W39QWK-qOiqD"
      },
      "source": [
        "13- Get all items between 5 and 10 from `a`\n",
        "- Input\n",
        "```Python\n",
        "a = np.array([2, 6, 1, 9, 10, 3, 27])\n",
        "```\n",
        "- Desired output:\n",
        "```Python\n",
        "#> (array([6, 9, 10]),)\n",
        "```"
      ]
    },
    {
      "cell_type": "code",
      "execution_count": 13,
      "metadata": {
        "id": "EjNV4BvuOiqE",
        "outputId": "37442d2e-35b9-481a-9734-bef349a3b6e2",
        "colab": {
          "base_uri": "https://localhost:8080/"
        }
      },
      "outputs": [
        {
          "output_type": "execute_result",
          "data": {
            "text/plain": [
              "array([ 6,  9, 10])"
            ]
          },
          "metadata": {},
          "execution_count": 13
        }
      ],
      "source": [
        "# Your code here\n",
        "a = np.array([2, 6, 1, 9, 10, 3, 27])\n",
        "a[(a>=5) & (a<=10)]"
      ]
    },
    {
      "cell_type": "markdown",
      "metadata": {
        "id": "O5LdZBAzOiqF"
      },
      "source": [
        "14- Convert the function `maxx` that works on two scalars, to work on two arrays\n",
        "- Input\n",
        "```Python\n",
        "def maxx(x, y):\n",
        "    \"\"\"Get the maximum of two items\"\"\"\n",
        "    if x >= y:\n",
        "        return x\n",
        "    else:\n",
        "        return y\n",
        "```\n",
        "```Python\n",
        "maxx(1, 5)\n",
        "#> 5\n",
        "```\n",
        "\n",
        "- Desired output:\n",
        "\n",
        "```Python\n",
        "a = np.array([5, 7, 9, 8, 6, 4, 5])\n",
        "b = np.array([6, 3, 4, 8, 9, 7, 1])\n",
        "pair_max(a, b)\n",
        "#> array([ 6.,  7.,  9.,  8.,  9.,  7.,  5.])\n",
        "```"
      ]
    },
    {
      "cell_type": "code",
      "execution_count": 14,
      "metadata": {
        "id": "5Rp7DMCwOiqG",
        "outputId": "017b1044-292f-4e18-9281-30e4507b8690",
        "colab": {
          "base_uri": "https://localhost:8080/"
        }
      },
      "outputs": [
        {
          "output_type": "execute_result",
          "data": {
            "text/plain": [
              "array([6., 7., 9., 8., 9., 7., 5.])"
            ]
          },
          "metadata": {},
          "execution_count": 14
        }
      ],
      "source": [
        "# Your code here\n",
        "def maxx(x, y):\n",
        "  \"\"\"Get the maximum of two items\"\"\"\n",
        "  if x >= y:\n",
        "      return x\n",
        "  else:\n",
        "      return y\n",
        "pair_max = np.vectorize(maxx, otypes=[float])\n",
        "a = np.array([5, 7, 9, 8, 6, 4, 5])\n",
        "b = np.array([6, 3, 4, 8, 9, 7, 1])\n",
        "pair_max(a,b)    "
      ]
    },
    {
      "cell_type": "markdown",
      "metadata": {
        "id": "DIIl1hRgOiqJ"
      },
      "source": [
        "15- Reverse the rows of a 2D array `arr`\n",
        "- Input\n",
        "```Python\n",
        "arr = np.arange(9).reshape(3,3)\n",
        "```\n",
        "- Desired output:\n",
        "```Python\n",
        "#> array([[6, 7, 8],\n",
        "#>       [3, 4, 5],\n",
        "#>       [0, 1, 2]])\n",
        "```"
      ]
    },
    {
      "cell_type": "code",
      "execution_count": 15,
      "metadata": {
        "id": "Hu5aEm9cOiqJ",
        "outputId": "e60f62ad-148e-417f-a003-b850d69a43e0",
        "colab": {
          "base_uri": "https://localhost:8080/"
        }
      },
      "outputs": [
        {
          "output_type": "execute_result",
          "data": {
            "text/plain": [
              "array([[6, 7, 8],\n",
              "       [3, 4, 5],\n",
              "       [0, 1, 2]])"
            ]
          },
          "metadata": {},
          "execution_count": 15
        }
      ],
      "source": [
        "# Your code here\n",
        "arr = np.arange(9).reshape(3,3)\n",
        "arr[::-1]"
      ]
    },
    {
      "cell_type": "markdown",
      "metadata": {
        "id": "5xpM1d-SOiqK"
      },
      "source": [
        "16- Reverse the columns of a 2D array `arr`\n",
        "- Input\n",
        "```Python\n",
        "arr = np.arange(9).reshape(3,3)\n",
        "```\n",
        "- Desired output:\n",
        "```Python\n",
        "#> array([[6, 7, 8],\n",
        "#>       [3, 4, 5],\n",
        "#>       [0, 1, 2]]\n",
        "```"
      ]
    },
    {
      "cell_type": "code",
      "execution_count": 16,
      "metadata": {
        "id": "pg2SV54bOiqK",
        "outputId": "85be8f0c-ab37-4816-e10b-297b201f1abe",
        "colab": {
          "base_uri": "https://localhost:8080/"
        }
      },
      "outputs": [
        {
          "output_type": "execute_result",
          "data": {
            "text/plain": [
              "array([[2, 1, 0],\n",
              "       [5, 4, 3],\n",
              "       [8, 7, 6]])"
            ]
          },
          "metadata": {},
          "execution_count": 16
        }
      ],
      "source": [
        "# Your code here\n",
        "arr = np.arange(9).reshape(3,3)\n",
        "arr[:,::-1]\n"
      ]
    },
    {
      "cell_type": "markdown",
      "metadata": {
        "id": "a9m3JmyNOiqL"
      },
      "source": [
        "17- Create a 2D array of shape 5×3 to contain random decimal numbers between 5 and 10 (use `np.random.seed()` to generate the same random output).\n",
        "- Desired output: (for seed number equal 10)\n",
        "```Python\n",
        "#> array([[6.15037787, 9.68381843, 5.81660184],\n",
        "#>       [6.33607158, 8.89081653, 9.19812181],\n",
        "#>       [6.03061665, 5.87761494, 6.72743551],\n",
        "#>       [7.54088093, 5.13145815, 6.41366737],\n",
        "#>       [5.77872881, 7.58390137, 5.18263144]])\n",
        "```"
      ]
    },
    {
      "cell_type": "code",
      "execution_count": 17,
      "metadata": {
        "id": "RqeQiOnoOiqM",
        "outputId": "47221868-2f61-429e-f451-d12aea0f819c",
        "colab": {
          "base_uri": "https://localhost:8080/"
        }
      },
      "outputs": [
        {
          "output_type": "execute_result",
          "data": {
            "text/plain": [
              "array([[8.85660322, 5.10375975, 8.16824117],\n",
              "       [8.74401941, 7.49253506, 6.12398323],\n",
              "       [5.99031432, 8.80265356, 5.84555418],\n",
              "       [5.44169907, 8.42679909, 9.76696673],\n",
              "       [5.01974133, 7.56096132, 9.06310481]])"
            ]
          },
          "metadata": {},
          "execution_count": 17
        }
      ],
      "source": [
        "# Your code here\n",
        "#import random\n",
        "np.random.seed(10)\n",
        "np.random.uniform(5,10,(5,3))"
      ]
    },
    {
      "cell_type": "markdown",
      "metadata": {
        "id": "tCExpJCLOiqN"
      },
      "source": [
        "18- Print or show only 3 decimal places of the numpy array `rand_arr`\n",
        "- Input\n",
        "```Python\n",
        "rand_arr = np.random.random((5,3))\n",
        "```\n",
        "- Desired output:\n",
        "```Python\n",
        "rand_arr[:4]\n",
        "#> array([[ 0.443,  0.109,  0.97 ],\n",
        "#>        [ 0.388,  0.447,  0.191],\n",
        "#>        [ 0.891,  0.474,  0.212],\n",
        "#>        [ 0.609,  0.518,  0.403]])\n",
        "```"
      ]
    },
    {
      "cell_type": "code",
      "execution_count": 18,
      "metadata": {
        "id": "HfF2q1yeOiqP",
        "outputId": "c8b6329d-b3ff-4d7f-c3f6-347a9adcec4c",
        "colab": {
          "base_uri": "https://localhost:8080/"
        }
      },
      "outputs": [
        {
          "output_type": "execute_result",
          "data": {
            "text/plain": [
              "array([[0.613, 0.722, 0.292],\n",
              "       [0.918, 0.715, 0.543],\n",
              "       [0.142, 0.373, 0.674],\n",
              "       [0.442, 0.434, 0.618],\n",
              "       [0.513, 0.65 , 0.601]])"
            ]
          },
          "metadata": {},
          "execution_count": 18
        }
      ],
      "source": [
        "# Your code here\n",
        "rand_arr = np.random.random((5,3))\n",
        "np.set_printoptions(precision=3)\n",
        "rand_arr"
      ]
    },
    {
      "cell_type": "markdown",
      "metadata": {
        "id": "Q84EA_5wOiqP"
      },
      "source": [
        "19- Pretty print `rand_arr` by suppressing the scientific notation (like 1e10) \n",
        "- Input\n",
        "\n",
        "```Python\n",
        "# Create the random array\n",
        "np.random.seed(100)\n",
        "rand_arr = np.random.random([3,3])/1e3\n",
        "```\n",
        "```Python\n",
        "rand_arr\n",
        "\n",
        "#> array([[  5.434049e-04,   2.783694e-04,   4.245176e-04],\n",
        "#>        [  8.447761e-04,   4.718856e-06,   1.215691e-04],\n",
        "#>        [  6.707491e-04,   8.258528e-04,   1.367066e-04]])\n",
        "```\n",
        "\n",
        "- Desired output:\n",
        "```python\n",
        "#> array([[ 0.000543,  0.000278,  0.000425],\n",
        "#>        [ 0.000845,  0.000005,  0.000122],\n",
        "#>        [ 0.000671,  0.000826,  0.000137]])\n",
        "```"
      ]
    },
    {
      "cell_type": "code",
      "execution_count": 21,
      "metadata": {
        "id": "7KYUfP7UOiqQ",
        "outputId": "f7de8bdc-0b7b-46a7-b261-601127f76a58",
        "colab": {
          "base_uri": "https://localhost:8080/"
        }
      },
      "outputs": [
        {
          "output_type": "execute_result",
          "data": {
            "text/plain": [
              "array([[0.001, 0.   , 0.   ],\n",
              "       [0.001, 0.   , 0.   ],\n",
              "       [0.001, 0.001, 0.   ]])"
            ]
          },
          "metadata": {},
          "execution_count": 21
        }
      ],
      "source": [
        "# Your code here\n",
        "np.random.seed(100)\n",
        "rand_arr = np.random.random([3,3])/1e3\n",
        "np.set_printoptions(suppress=True)\n",
        "rand_arr"
      ]
    },
    {
      "cell_type": "markdown",
      "metadata": {
        "id": "PndrRUkWOiqQ"
      },
      "source": [
        "20- Limit the number of items printed in python numpy array a to a maximum of 6 elements.\n",
        "- Input:\n",
        "```Python\n",
        "a = np.arange(15)\n",
        "#> array([ 0,  1,  2,  3,  4,  5,  6,  7,  8,  9, 10, 11, 12, 13, 14])\n",
        "```\n",
        "- Desired output:\n",
        "```Python\n",
        "#> array([ 0,  1,  2, ..., 12, 13, 14])\n",
        "```"
      ]
    },
    {
      "cell_type": "code",
      "execution_count": 22,
      "metadata": {
        "id": "YI10ht7EOiqR",
        "outputId": "fa331e76-3f0e-449f-ba58-27a9f40ad04f",
        "colab": {
          "base_uri": "https://localhost:8080/"
        }
      },
      "outputs": [
        {
          "output_type": "execute_result",
          "data": {
            "text/plain": [
              "array([ 0,  1,  2, ..., 12, 13, 14])"
            ]
          },
          "metadata": {},
          "execution_count": 22
        }
      ],
      "source": [
        "# Your code here\n",
        "a = np.arange(15)\n",
        "np.set_printoptions(threshold=True)\n",
        "a"
      ]
    },
    {
      "cell_type": "markdown",
      "metadata": {
        "id": "5yTgP4AEOiqS"
      },
      "source": [
        "21- Convert the 1D iris to 2D array iris_2d by omitting the species text field.\n",
        "- Input:\n",
        "```Python\n",
        "url = 'https://archive.ics.uci.edu/ml/machine-learning-databases/iris/iris.data'\n",
        "iris_1d = np.genfromtxt(url, delimiter=',', dtype=None)\n",
        "```\n",
        "- Desired output:\n",
        "```Python\n",
        "#> array([[ 5.1,  3.5,  1.4,  0.2],\n",
        "#>        [ 4.9,  3. ,  1.4,  0.2],\n",
        "#>        [ 4.7,  3.2,  1.3,  0.2],\n",
        "#>        [ 4.6,  3.1,  1.5,  0.2]])\n",
        "```"
      ]
    },
    {
      "cell_type": "code",
      "execution_count": 24,
      "metadata": {
        "id": "kCMKEXuMOiqT",
        "outputId": "079db340-8da9-4e18-adae-e52a664d209d",
        "colab": {
          "base_uri": "https://localhost:8080/"
        }
      },
      "outputs": [
        {
          "output_type": "execute_result",
          "data": {
            "text/plain": [
              "array([[5.1, 3.5, 1.4, 0.2],\n",
              "       [4.9, 3. , 1.4, 0.2],\n",
              "       [4.7, 3.2, 1.3, 0.2],\n",
              "       [4.6, 3.1, 1.5, 0.2]])"
            ]
          },
          "metadata": {},
          "execution_count": 24
        }
      ],
      "source": [
        "# Your code here\n",
        "# Your code here\n",
        "url = 'https://archive.ics.uci.edu/ml/machine-learning-databases/iris/iris.data'\n",
        "iris_2d = np.genfromtxt(url, delimiter=',', dtype='float',usecols=[0,1,2,3])\n",
        "iris_2d[:4]\n"
      ]
    },
    {
      "cell_type": "markdown",
      "metadata": {
        "id": "YlUeVSV2OiqU"
      },
      "source": [
        "22- Find the mean, median, standard deviation of iris's sepallength (1st column)\n",
        "- Input:\n",
        "```Python\n",
        "url = 'https://archive.ics.uci.edu/ml/machine-learning-databases/iris/iris.data'\n",
        "iris = np.genfromtxt(url, delimiter=',', dtype='object')\n",
        "```\n",
        "- Desired output:\n",
        "```Python\n",
        "print(mean, median, sd)\n",
        "#> 5.84333333333 5.8 0.825301291785\n",
        "```"
      ]
    },
    {
      "cell_type": "code",
      "execution_count": 25,
      "metadata": {
        "id": "vkvvQlV4OiqV",
        "outputId": "62bfae37-cd3c-48c2-d966-34f1d6facf8d",
        "colab": {
          "base_uri": "https://localhost:8080/"
        }
      },
      "outputs": [
        {
          "output_type": "stream",
          "name": "stdout",
          "text": [
            "5.843333333333334 5.8 0.8253012917851409\n"
          ]
        }
      ],
      "source": [
        "# Your code here\n",
        "url = 'https://archive.ics.uci.edu/ml/machine-learning-databases/iris/iris.data'\n",
        "iris = np.genfromtxt(url, delimiter=',', dtype='float', usecols=[0])\n",
        "mu, med, sd = np.mean(iris), np.median(iris), np.std(iris)\n",
        "print(mu, med, sd)"
      ]
    },
    {
      "cell_type": "markdown",
      "metadata": {
        "id": "mEQklR6rOiqV"
      },
      "source": [
        "23- Create a normalized form of iris‘s sepallength whose values range exactly between 0 and 1 so that the minimum has value 0 and maximum has value 1.\n",
        "- Input:\n",
        "```Python\n",
        "url = 'https://archive.ics.uci.edu/ml/machine-learning-databases/iris/iris.data'\n",
        "iris = np.genfromtxt(url, delimiter=',', dtype='object')\n",
        "```\n",
        "- Desired output:\n",
        "```Python\n",
        "print(S)\n",
        "#> [ 0.222  0.167  0.111  0.083  0.194  0.306  0.083  0.194  0.028  0.167\n",
        "#>   0.306  0.139  0.139  0.     0.417  0.389  0.306  0.222  0.389  0.222\n",
        "#>   0.306  0.222  0.083  0.222  0.139  0.194  0.194  0.25   0.25   0.111\n",
        "#>   0.139  0.306  0.25   0.333  0.167  0.194  0.333  0.167  0.028  0.222\n",
        "#>   0.194  0.056  0.028  0.194  0.222  0.139  0.222  0.083  0.278  0.194\n",
        "#>   0.75   0.583  0.722  0.333  0.611  0.389  0.556  0.167  0.639  0.25\n",
        "#>   0.194  0.444  0.472  0.5    0.361  0.667  0.361  0.417  0.528  0.361\n",
        "#>   0.444  0.5    0.556  0.5    0.583  0.639  0.694  0.667  0.472  0.389\n",
        "#>   0.333  0.333  0.417  0.472  0.306  0.472  0.667  0.556  0.361  0.333\n",
        "#>   0.333  0.5    0.417  0.194  0.361  0.389  0.389  0.528  0.222  0.389\n",
        "#>   0.556  0.417  0.778  0.556  0.611  0.917  0.167  0.833  0.667  0.806\n",
        "#>   0.611  0.583  0.694  0.389  0.417  0.583  0.611  0.944  0.944  0.472\n",
        "#>   0.722  0.361  0.944  0.556  0.667  0.806  0.528  0.5    0.583  0.806\n",
        "#>   0.861  1.     0.583  0.556  0.5    0.944  0.556  0.583  0.472  0.722\n",
        "#>   0.667  0.722  0.417  0.694  0.667  0.667  0.556  0.611  0.528  0.444]\n",
        "```"
      ]
    },
    {
      "cell_type": "code",
      "execution_count": 26,
      "metadata": {
        "id": "Uba7tRvROiqW",
        "outputId": "962dbf4a-eba2-44fc-9a09-1a23412abc0d",
        "colab": {
          "base_uri": "https://localhost:8080/"
        }
      },
      "outputs": [
        {
          "output_type": "stream",
          "name": "stdout",
          "text": [
            "[0.222 0.167 0.111 ... 0.611 0.528 0.444]\n"
          ]
        }
      ],
      "source": [
        "# Your code here\n",
        "url = 'https://archive.ics.uci.edu/ml/machine-learning-databases/iris/iris.data'\n",
        "Smax, Smin = iris.max(), iris.min()\n",
        "S = (iris- Smin)/(Smax - Smin)\n",
        "np.set_printoptions(precision=3)\n",
        "print(S)"
      ]
    },
    {
      "cell_type": "markdown",
      "metadata": {
        "id": "sT7mGvSCOiqX"
      },
      "source": [
        "24- Find the number and position of missing values in iris_2d‘s sepallength (1st column)\n",
        "- Input:\n",
        "```Python\n",
        "url = 'https://archive.ics.uci.edu/ml/machine-learning-databases/iris/iris.data'\n",
        "iris_2d = np.genfromtxt(url, delimiter=',', dtype='float')\n",
        "iris_2d[np.random.randint(150, size=20), np.random.randint(4, size=20)] = np.nan\n",
        "```\n",
        "- Desired output:\n",
        "```Python\n",
        "#> Number of missing values: \n",
        "...\n",
        "#> Position of missing values: \n",
        "...\n",
        "```"
      ]
    },
    {
      "cell_type": "code",
      "execution_count": 27,
      "metadata": {
        "id": "4LBGZgplOiqX",
        "outputId": "30089d91-922b-4270-f8ea-0f1c8a795999",
        "colab": {
          "base_uri": "https://localhost:8080/"
        }
      },
      "outputs": [
        {
          "output_type": "stream",
          "name": "stdout",
          "text": [
            "Number of missing values: \n",
            " 2\n",
            "Position of missing values: \n",
            " (array([67, 93]),)\n"
          ]
        }
      ],
      "source": [
        "# Your code here\n",
        "url = 'https://archive.ics.uci.edu/ml/machine-learning-databases/iris/iris.data'\n",
        "iris_2d = np.genfromtxt(url, delimiter=',', dtype='float')\n",
        "iris_2d[np.random.randint(150, size=20), np.random.randint(4, size=20)] = np.nan\n",
        "print(\"Number of missing values: \\n\", np.isnan(iris_2d[:, 0]).sum())\n",
        "print(\"Position of missing values: \\n\", np.where(np.isnan(iris_2d[:, 0])))"
      ]
    },
    {
      "cell_type": "markdown",
      "metadata": {
        "id": "lCU2w_syOiqY"
      },
      "source": [
        "25- Select the rows of iris_2d that does not have any nan value\n",
        "- Input:\n",
        "```Python\n",
        "# Input\n",
        "url = 'https://archive.ics.uci.edu/ml/machine-learning-databases/iris/iris.data'\n",
        "iris_2d = np.genfromtxt(url, delimiter=',', dtype='float', usecols=[0,1,2,3])\n",
        "```"
      ]
    },
    {
      "cell_type": "code",
      "execution_count": 28,
      "metadata": {
        "id": "N8lJgPMROiqZ",
        "outputId": "daf59cbb-b09a-4f73-85d7-ea641a498a94",
        "colab": {
          "base_uri": "https://localhost:8080/"
        }
      },
      "outputs": [
        {
          "output_type": "execute_result",
          "data": {
            "text/plain": [
              "array([[5.1, 3.5, 1.4, 0.2],\n",
              "       [4.9, 3. , 1.4, 0.2],\n",
              "       [4.7, 3.2, 1.3, 0.2],\n",
              "       ...,\n",
              "       [6.5, 3. , 5.2, 2. ],\n",
              "       [6.2, 3.4, 5.4, 2.3],\n",
              "       [5.9, 3. , 5.1, 1.8]])"
            ]
          },
          "metadata": {},
          "execution_count": 28
        }
      ],
      "source": [
        "# Your code here\n",
        "url = 'https://archive.ics.uci.edu/ml/machine-learning-databases/iris/iris.data'\n",
        "iris_2d = np.genfromtxt(url, delimiter=',', dtype='float', usecols=[0,1,2,3])\n",
        "iris_2d[np.sum(np.isnan(iris_2d), axis = 1) == 0]"
      ]
    },
    {
      "cell_type": "markdown",
      "metadata": {
        "id": "v_5uXjD-OiqZ"
      },
      "source": [
        "26- Replace all ccurrences of `nan` with 0 in numpy array\n",
        "- Input\n",
        "```Python\n",
        "url = 'https://archive.ics.uci.edu/ml/machine-learning-databases/iris/iris.data'\n",
        "iris_2d = np.genfromtxt(url, delimiter=',', dtype='float', usecols=[0,1,2,3])\n",
        "iris_2d[np.random.randint(150, size=20), np.random.randint(4, size=20)] = np.nan\n",
        "```"
      ]
    },
    {
      "cell_type": "code",
      "execution_count": 29,
      "metadata": {
        "id": "JKJFi-6BOiqa"
      },
      "outputs": [],
      "source": [
        "# Your code here\n",
        "url = 'https://archive.ics.uci.edu/ml/machine-learning-databases/iris/iris.data'\n",
        "iris_2d = np.genfromtxt(url, delimiter=',', dtype='float', usecols=[0,1,2,3])\n",
        "iris_2d[np.random.randint(150, size=20), np.random.randint(4, size=20)] = np.nan\n",
        "iris_2d[np.isnan(iris_2d)]=0"
      ]
    },
    {
      "cell_type": "markdown",
      "metadata": {
        "id": "kVVzitTXOiqd"
      },
      "source": [
        "27- Bin the petal length (3rd) column of iris_2d to form a text array, such that if petal length is:\n",
        "- Less than 3 –> 'small'\n",
        "- 3-5 –> 'medium'\n",
        "- '>=5 –> 'large'\n",
        "- Input \n",
        "```Python\n",
        "url = 'https://archive.ics.uci.edu/ml/machine-learning-databases/iris/iris.data'\n",
        "iris = np.genfromtxt(url, delimiter=',', dtype='object')\n",
        "names = ('sepallength', 'sepalwidth', 'petallength', 'petalwidth', 'species')\n",
        "```\n",
        "- Desired output:\n",
        "```Python\n",
        "petal_length_cat[:4]\n",
        "#> ['small', 'small', 'small', 'small']\n",
        "```"
      ]
    },
    {
      "cell_type": "code",
      "execution_count": 30,
      "metadata": {
        "id": "XYlepuM0Oiqd",
        "outputId": "87223f03-0d86-4fe4-a263-bf832bbd2d48",
        "colab": {
          "base_uri": "https://localhost:8080/"
        }
      },
      "outputs": [
        {
          "output_type": "execute_result",
          "data": {
            "text/plain": [
              "['small', 'small', 'small', 'small']"
            ]
          },
          "metadata": {},
          "execution_count": 30
        }
      ],
      "source": [
        "# Your code here\n",
        "url = 'https://archive.ics.uci.edu/ml/machine-learning-databases/iris/iris.data'\n",
        "iris = np.genfromtxt(url, delimiter=',', dtype='object')\n",
        "names = ('sepallength', 'sepalwidth', 'petallength', 'petalwidth', 'species')\n",
        "petal_length_bin = np.digitize(iris_2d[:,2].astype(\"float\"), [0,3,5,10])\n",
        "label_map = {1: 'small', 2: 'medium', 3: 'large', 4: np.nan}\n",
        "petal_length_cat = [label_map[x] for x in petal_length_bin]\n",
        "petal_length_cat[:4]"
      ]
    },
    {
      "cell_type": "markdown",
      "metadata": {
        "id": "WePv7n2yOiqe"
      },
      "source": [
        "28- Find the position of the first occurrence of a value greater than 1.0 in petalwidth 4th column of iris dataset.\n",
        "- Input \n",
        "```Python\n",
        "url = 'https://archive.ics.uci.edu/ml/machine-learning-databases/iris/iris.data'\n",
        "iris = np.genfromtxt(url, delimiter=',', dtype='object')\n",
        "```\n",
        "- Desired output:\n",
        "```Python\n",
        "#> 50\n",
        "```"
      ]
    },
    {
      "cell_type": "code",
      "execution_count": 31,
      "metadata": {
        "id": "bbdZPW_7Oiqe",
        "outputId": "7be50572-ece3-4a8d-9843-f5bf3d27216a",
        "colab": {
          "base_uri": "https://localhost:8080/"
        }
      },
      "outputs": [
        {
          "output_type": "execute_result",
          "data": {
            "text/plain": [
              "50"
            ]
          },
          "metadata": {},
          "execution_count": 31
        }
      ],
      "source": [
        "# Your code here\n",
        "url = 'https://archive.ics.uci.edu/ml/machine-learning-databases/iris/iris.data'\n",
        "iris = np.genfromtxt(url, delimiter=',', dtype='object')\n",
        "np.where(iris[:,3].astype(float) > 1)[0][0]\n"
      ]
    },
    {
      "cell_type": "markdown",
      "metadata": {
        "id": "cMyIWhHfOiqf"
      },
      "source": [
        "29- From the array a, replace all values greater than 30 to 30 and less than 10 to 10. \n",
        "- Input:\n",
        "```Python\n",
        "np.random.seed(100)\n",
        "a = np.random.uniform(1,50, 20)\n",
        "```\n",
        "- Desired output:\n",
        "```Python\n",
        "#> [ 27.63  14.64  21.8   30.    10.    10.    30.    30.    10.    29.18  30.\n",
        "#>   11.25  10.08  10.    11.77  30.    30.    10.    30.    14.43]\n",
        "```"
      ]
    },
    {
      "cell_type": "code",
      "execution_count": 32,
      "metadata": {
        "id": "WcilIYvWOiql",
        "outputId": "42cb012a-fb6a-47dc-f7d3-5a0619885ad0",
        "colab": {
          "base_uri": "https://localhost:8080/"
        }
      },
      "outputs": [
        {
          "output_type": "execute_result",
          "data": {
            "text/plain": [
              "array([27.627, 14.64 , 21.801, ..., 10.   , 30.   , 14.43 ])"
            ]
          },
          "metadata": {},
          "execution_count": 32
        }
      ],
      "source": [
        "# Your code here\n",
        "np.random.seed(100)\n",
        "a = np.random.uniform(1,50, 20)\n",
        "np.clip(a, a_min=10, a_max=30)"
      ]
    },
    {
      "cell_type": "markdown",
      "metadata": {
        "id": "Wn4P8xt7Oiqm"
      },
      "source": [
        "30- Import the image from the following URL and convert it to a numpy array. URL = ‘https://upload.wikimedia.org/wikipedia/commons/8/8b/Denali_Mt_McKinley.jpg’\n",
        "- Input\n",
        "```Python\n",
        "from io import BytesIO\n",
        "from PIL import Image\n",
        "import PIL, requests\n",
        "```"
      ]
    },
    {
      "cell_type": "code",
      "execution_count": 33,
      "metadata": {
        "id": "ftmQ_Q2XOiqn",
        "outputId": "f6c6b7cd-d72f-410a-a70e-27f5f89d3d10",
        "colab": {
          "base_uri": "https://localhost:8080/"
        }
      },
      "outputs": [
        {
          "output_type": "execute_result",
          "data": {
            "text/plain": [
              "array([[[  9,  72, 125],\n",
              "        [ 10,  73, 126],\n",
              "        [ 11,  74, 127],\n",
              "        ...,\n",
              "        [ 44, 104, 154],\n",
              "        [ 43, 104, 152],\n",
              "        [ 42, 103, 147]],\n",
              "\n",
              "       [[ 10,  73, 126],\n",
              "        [ 11,  74, 127],\n",
              "        [ 11,  74, 127],\n",
              "        ...,\n",
              "        [ 45, 105, 155],\n",
              "        [ 45, 106, 154],\n",
              "        [ 46, 107, 152]],\n",
              "\n",
              "       [[ 11,  73, 127],\n",
              "        [ 12,  74, 128],\n",
              "        [ 12,  75, 128],\n",
              "        ...,\n",
              "        [ 47, 107, 157],\n",
              "        [ 46, 107, 156],\n",
              "        [ 46, 106, 155]],\n",
              "\n",
              "       ...,\n",
              "\n",
              "       [[ 35,  50,  59],\n",
              "        [ 31,  52,  66],\n",
              "        [ 19,  36,  47],\n",
              "        ...,\n",
              "        [ 20,  52,  67],\n",
              "        [ 26,  57,  78],\n",
              "        [ 26,  59,  83]],\n",
              "\n",
              "       [[ 31,  52,  64],\n",
              "        [ 33,  62,  78],\n",
              "        [ 37,  56,  72],\n",
              "        ...,\n",
              "        [ 21,  49,  62],\n",
              "        [ 24,  50,  68],\n",
              "        [ 21,  48,  66]],\n",
              "\n",
              "       [[ 23,  51,  65],\n",
              "        [ 26,  60,  79],\n",
              "        [ 28,  58,  75],\n",
              "        ...,\n",
              "        [ 17,  64,  92],\n",
              "        [ 25,  67,  97],\n",
              "        [ 21,  56,  83]]], dtype=uint8)"
            ]
          },
          "metadata": {},
          "execution_count": 33
        }
      ],
      "source": [
        "# Your code here\n",
        "from io import BytesIO\n",
        "from PIL import Image\n",
        "import PIL, requests\n",
        "URL = 'https://upload.wikimedia.org/wikipedia/commons/8/8b/Denali_Mt_McKinley.jpg'\n",
        "response = requests.get(URL)\n",
        "#Read it as Image\n",
        "I = Image.open(BytesIO(response.content))\n",
        "# Optionally resize\n",
        "I = I.resize([150,150])\n",
        "# Convert to numpy array\n",
        "arr = np.asarray(I)\n",
        "arr"
      ]
    }
  ],
  "metadata": {
    "hide_input": false,
    "kernelspec": {
      "display_name": "Python 3.10.4 64-bit",
      "language": "python",
      "name": "python3"
    },
    "language_info": {
      "codemirror_mode": {
        "name": "ipython",
        "version": 3
      },
      "file_extension": ".py",
      "mimetype": "text/x-python",
      "name": "python",
      "nbconvert_exporter": "python",
      "pygments_lexer": "ipython3",
      "version": "3.10.4"
    },
    "vscode": {
      "interpreter": {
        "hash": "916dbcbb3f70747c44a77c7bcd40155683ae19c65e1c03b4aa3499c5328201f1"
      }
    },
    "colab": {
      "provenance": []
    }
  },
  "nbformat": 4,
  "nbformat_minor": 0
}