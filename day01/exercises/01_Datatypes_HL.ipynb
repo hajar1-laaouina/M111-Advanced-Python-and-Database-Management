{
  "cells": [
    {
      "cell_type": "markdown",
      "metadata": {
        "id": "SSXQ1eNArTWY"
      },
      "source": [
        "# Datatypes exercises"
      ]
    },
    {
      "cell_type": "markdown",
      "metadata": {
        "id": "rAD3rsJCrTWd"
      },
      "source": [
        "## Exercise 1"
      ]
    },
    {
      "cell_type": "markdown",
      "metadata": {
        "id": "ozqkIVOzrTWg"
      },
      "source": [
        "Write the following mathematical formula in Python:\n",
        "\n",
        "\\begin{align}\n",
        " result = 6a^3 - \\frac{8b^2 }{4c} + 11\n",
        "\\end{align}\n",
        "\n",
        "```python\n",
        "a = 2\n",
        "b = 3\n",
        "c = 2\n",
        "```\n",
        "\n",
        "> write your formula as \n",
        "```python\n",
        "result = \n",
        "```\n",
        "\n",
        "It must verify\n",
        "```python\n",
        ">>> assert result == 50"
      ]
    },
    {
      "cell_type": "code",
      "execution_count": 13,
      "metadata": {
        "id": "CNhv6UBWrTWh",
        "colab": {
          "base_uri": "https://localhost:8080/"
        },
        "outputId": "1e929168-7fc7-4e1d-f4fb-cf21720b444e"
      },
      "outputs": [
        {
          "output_type": "execute_result",
          "data": {
            "text/plain": [
              "50.0"
            ]
          },
          "metadata": {},
          "execution_count": 13
        }
      ],
      "source": [
        "a = 2\n",
        "b = 3\n",
        "c = 2\n",
        "result = (6*pow(a,3))-((8*pow(b,2))/(4*c))+11\n",
        "result\n",
        "\n",
        "#assert result == 50"
      ]
    },
    {
      "cell_type": "markdown",
      "metadata": {
        "id": "tCfLEz05rTWi"
      },
      "source": [
        "## Exercise 2"
      ]
    },
    {
      "cell_type": "markdown",
      "metadata": {
        "id": "A-QNGODFrTWj"
      },
      "source": [
        "Explain why the folowing assertion fails"
      ]
    },
    {
      "cell_type": "code",
      "execution_count": 14,
      "metadata": {
        "id": "h_v-X6ZfrTWj",
        "colab": {
          "base_uri": "https://localhost:8080/",
          "height": 183
        },
        "outputId": "31d471b3-535f-4e38-9b97-97b3f65b177c"
      },
      "outputs": [
        {
          "output_type": "error",
          "ename": "AssertionError",
          "evalue": "ignored",
          "traceback": [
            "\u001b[0;31m---------------------------------------------------------------------------\u001b[0m",
            "\u001b[0;31mAssertionError\u001b[0m                            Traceback (most recent call last)",
            "\u001b[0;32m<ipython-input-14-51465de72a21>\u001b[0m in \u001b[0;36m<module>\u001b[0;34m\u001b[0m\n\u001b[0;32m----> 1\u001b[0;31m \u001b[0;32massert\u001b[0m \u001b[0;34m(\u001b[0m\u001b[0;36m0.1\u001b[0m \u001b[0;34m+\u001b[0m \u001b[0;36m0.2\u001b[0m \u001b[0;34m==\u001b[0m \u001b[0;36m0.3\u001b[0m\u001b[0;34m)\u001b[0m \u001b[0;31m# will cause assertion error\u001b[0m\u001b[0;34m\u001b[0m\u001b[0;34m\u001b[0m\u001b[0m\n\u001b[0m\u001b[1;32m      2\u001b[0m   \u001b[0;31m# will cause assertion error the cacul is with virgule flottante ou comme le calcul de la partie entiere\u001b[0m\u001b[0;34m\u001b[0m\u001b[0;34m\u001b[0m\u001b[0;34m\u001b[0m\u001b[0m\n",
            "\u001b[0;31mAssertionError\u001b[0m: "
          ]
        }
      ],
      "source": [
        "assert (0.1 + 0.2 == 0.3) # will cause assertion error\n",
        " # # will cause assertion error the cacul is with virgule flottante ou comme le calcul de la partie entiere;When you type the number 0.1 into the Python interpreter, it gets stored in memory as a floating-point number. There's a conversion that takes place when this happens. 0.1 is a decimal in base 10, but floating-point numbers are stored in binary. In other words, 0.1 gets converted from base 10 to base 2.\n",
        "\n",
        "#The resulting binary number may not accurately represent the original base 10 number. 0.1 is one example. The binary representation is\n",
        "\n",
        "#. That is, 0.1 is an infinitely repeating decimal when written in base 2. The same thing happens when you write the fraction ⅓ as a decimal in base 10. You end up with the infinitely repeating decimal\n"
      ]
    },
    {
      "cell_type": "markdown",
      "metadata": {
        "id": "kcKU5PmlrTWj"
      },
      "source": [
        "## Exercise 3"
      ]
    },
    {
      "cell_type": "markdown",
      "metadata": {
        "id": "7UAwx1dtrTWk"
      },
      "source": [
        "Write a Python program to sum all the items in a list\n",
        "\n",
        "1.   Élément de liste\n",
        "2.   Élément de liste\n",
        "\n"
      ]
    },
    {
      "cell_type": "code",
      "execution_count": null,
      "metadata": {
        "id": "OIYSJOYFrTWk",
        "outputId": "8d5e5943-5c85-4d8b-8a0b-2cde2bcc6518",
        "colab": {
          "base_uri": "https://localhost:8080/"
        }
      },
      "outputs": [
        {
          "output_type": "stream",
          "name": "stdout",
          "text": [
            "-5\n"
          ]
        },
        {
          "output_type": "execute_result",
          "data": {
            "text/plain": [
              "29"
            ]
          },
          "metadata": {},
          "execution_count": 2
        }
      ],
      "source": [
        "#Code Here\n",
        "def sum_list(items):\n",
        "    sum_numbers = 0\n",
        "    for x in items:\n",
        "        sum_numbers += x\n",
        "    return sum_numbers\n",
        "print(sum_list([1,2,-8]))\n",
        "\n",
        "sum_list([10, 20, -1]) "
      ]
    },
    {
      "cell_type": "markdown",
      "metadata": {
        "id": "p97gGxbfrTWl"
      },
      "source": [
        "## Exercise 4"
      ]
    },
    {
      "cell_type": "markdown",
      "metadata": {
        "id": "SB2REJ-0rTWl"
      },
      "source": [
        "Write a program that asks how long it took to run 10 km today. The program continues to ask how long (in minutes) it took for additional runs, until the user enters q. At that point, the program exits — but only after calculating and displaying the average time that the 10 km run took.  \n",
        "\n",
        "\n",
        "Example:\n",
        "```\n",
        "Enter 10 km run time: 15\n",
        "Enter 10 km run time: 20\n",
        "Enter 10 km run time: 10\n",
        "Enter 10 km run time: q\n",
        "\n",
        "Average of 15.0, over 3 runs\n",
        "```"
      ]
    },
    {
      "cell_type": "code",
      "source": [
        "import numpy\n",
        "def run_time():\n",
        "    d = []\n",
        "    time = int(input(\"Enter 10 km run time: \"))\n",
        "    while time != 'q':\n",
        "        d.append(int(time))\n",
        "        time = input(\"Enter 10 km run time: \")\n",
        "        moyenne = len(d)\n",
        "        m_d = sum(d)/len(d)\n",
        "    print('Average of', m_d,',over' ,moyenne ,'runs')\n",
        "    \n",
        "run_time()"
      ],
      "metadata": {
        "id": "xrYaYv9ms3sW",
        "colab": {
          "base_uri": "https://localhost:8080/"
        },
        "outputId": "1e898f82-3f35-4e23-c92b-477434a9f15d"
      },
      "execution_count": 15,
      "outputs": [
        {
          "output_type": "stream",
          "name": "stdout",
          "text": [
            "Enter 10 km run time: 10\n",
            "Enter 10 km run time: 20\n",
            "Enter 10 km run time: 15\n",
            "Enter 10 km run time: q\n",
            "Average of 15.0 ,over 3 runs\n"
          ]
        }
      ]
    },
    {
      "cell_type": "markdown",
      "metadata": {
        "id": "D0U8AyXArTWl"
      },
      "source": [
        "## Exercise 5"
      ]
    },
    {
      "cell_type": "markdown",
      "metadata": {
        "id": "CxZH31nirTWm"
      },
      "source": [
        "Write a function that takes a string and returns the sorted string."
      ]
    },
    {
      "cell_type": "code",
      "execution_count": 7,
      "metadata": {
        "id": "pgB9eHbDrTWm"
      },
      "outputs": [],
      "source": [
        "def sort_string(s):\n",
        "\n",
        "  A=''.join(sorted(s))\n",
        "  return A"
      ]
    },
    {
      "cell_type": "code",
      "source": [
        "sort_string(\"cba\")"
      ],
      "metadata": {
        "colab": {
          "base_uri": "https://localhost:8080/",
          "height": 35
        },
        "id": "v43uxrtiw0OO",
        "outputId": "694db119-09a9-4e0f-b228-7feb844eb4cb"
      },
      "execution_count": 8,
      "outputs": [
        {
          "output_type": "execute_result",
          "data": {
            "text/plain": [
              "'abc'"
            ],
            "application/vnd.google.colaboratory.intrinsic+json": {
              "type": "string"
            }
          },
          "metadata": {},
          "execution_count": 8
        }
      ]
    },
    {
      "cell_type": "markdown",
      "metadata": {
        "id": "zIa93mwKrTWm"
      },
      "source": [
        "## Exercise 6"
      ]
    },
    {
      "cell_type": "markdown",
      "metadata": {
        "id": "ryr25DoDrTWn"
      },
      "source": [
        "Write a function that take a string of multiple words and returns the position \n",
        "of the word with most repeated letters"
      ]
    },
    {
      "cell_type": "code",
      "source": [],
      "metadata": {
        "id": "dbAY9OYU_hPf"
      },
      "execution_count": null,
      "outputs": []
    },
    {
      "cell_type": "code",
      "metadata": {
        "id": "ykE2xF1NClSS",
        "colab": {
          "base_uri": "https://localhost:8080/"
        },
        "outputId": "a42fe713-247a-4ed0-d190-00176fa616a7"
      },
      "source": [
        "def wwmrl(s):\n",
        "    #Code Here\n",
        "    words = s.split()\n",
        "    max_ = 0\n",
        "    for w in words:\n",
        "        d1 = {}\n",
        "        for l in w:\n",
        "            if l not in d1:\n",
        "                d1[l] = 1\n",
        "            else:\n",
        "                d1[l] += 1\n",
        "            if d1[l]> max_:\n",
        "                max_ = d1[l]     \n",
        "    return max_ \n",
        "\n",
        "print(wwmrl('this is an elementary test example'))\n",
        "#assert wwmrl(['this', 'is', 'an', 'elementary', 'test', 'example'])== 3\n"
      ],
      "execution_count": 17,
      "outputs": [
        {
          "output_type": "stream",
          "name": "stdout",
          "text": [
            "3\n"
          ]
        }
      ]
    },
    {
      "cell_type": "markdown",
      "metadata": {
        "id": "c8mn3RzIrTWn"
      },
      "source": [
        "## Exercise 7"
      ]
    },
    {
      "cell_type": "markdown",
      "metadata": {
        "id": "630YFnTLrTWo"
      },
      "source": [
        "1. Create a tuple\n",
        "2. Unpack the tuple in multiple variables"
      ]
    },
    {
      "cell_type": "code",
      "execution_count": null,
      "metadata": {
        "id": "cnnhH3BgrTWo",
        "colab": {
          "base_uri": "https://localhost:8080/"
        },
        "outputId": "e4cc9735-3ed6-41c2-d4b4-0c9a86d25b2f"
      },
      "outputs": [
        {
          "output_type": "stream",
          "name": "stdout",
          "text": [
            "Tuple:  (2, 3, 'fifi')\n",
            "x: 2\n",
            "y: 3\n",
            "z: fifi\n"
          ]
        }
      ],
      "source": [
        "S=2,3,'fifi'\n",
        "print('Tuple: ',S)\n",
        "(x,y,z)=S\n",
        "print('x:',x)\n",
        "print('y:',y)\n",
        "print('z:',z)"
      ]
    },
    {
      "cell_type": "markdown",
      "metadata": {
        "id": "uRR-dii0rTWo"
      },
      "source": [
        "## Exercise 8"
      ]
    },
    {
      "cell_type": "markdown",
      "metadata": {
        "id": "P7dfAZGqrTWp"
      },
      "source": [
        "Write a Python program to sort a tuple by its float element.  \n",
        "Sample data: `[('item1', '12.20'), ('item2', '15.10'), ('item3', '24.5')]`  \n",
        "Expected Output: `[('item3', '24.5'), ('item2', '15.10'), ('item1', '12.20')]`"
      ]
    },
    {
      "cell_type": "code",
      "execution_count": null,
      "metadata": {
        "id": "VDhwjeWGrTWr",
        "colab": {
          "base_uri": "https://localhost:8080/"
        },
        "outputId": "e1de0230-e7da-4a4f-f8c7-d7e0064b58c6"
      },
      "outputs": [
        {
          "output_type": "stream",
          "name": "stdout",
          "text": [
            "[('item3', '24.5'), ('item2', '15.10'), ('item1', '12.20')]\n"
          ]
        }
      ],
      "source": [
        "lisstt= [('item1', '12.20'), ('item2', '15.10'), ('item3', '24.5')]\n",
        "print( sorted(lisstt, key=lambda x: float(x[1]), reverse=True))\n"
      ]
    },
    {
      "cell_type": "markdown",
      "metadata": {
        "id": "xYcU2-TLrTWr"
      },
      "source": [
        "## Exercise 9"
      ]
    },
    {
      "cell_type": "markdown",
      "metadata": {
        "id": "bZjJclHtrTWs"
      },
      "source": [
        "Write a Python script to concatenate dictionaries to create a new one.\n",
        "\n",
        "\n",
        "\n"
      ]
    },
    {
      "cell_type": "code",
      "execution_count": null,
      "metadata": {
        "id": "TWV_SrFbrTWt"
      },
      "outputs": [],
      "source": [
        "\"\"\"Sample Dictionary\"\"\"\n",
        "dic1={1:10, 2:20}\n",
        "dic2={3:30, 4:40}\n",
        "dic3={5:50,6:60}\n",
        "\"\"\"\"Expected Result : {1: 10, 2: 20, 3: 30, 4: 40, 5: 50, 6: 60}\"\"\""
      ]
    },
    {
      "cell_type": "code",
      "source": [
        "dic1={1:10, 2:20}\n",
        "dic2={3:30, 4:40}\n",
        "dic3={5:50,6:60}\n",
        "dic4 = {}\n",
        "for d in (dic1, dic2, dic3): dic4.update(d)\n",
        "print(dic4)\n"
      ],
      "metadata": {
        "colab": {
          "base_uri": "https://localhost:8080/"
        },
        "id": "Wq0OWTt136ls",
        "outputId": "ef8c57d5-3e83-4552-895f-07a1031319f3"
      },
      "execution_count": null,
      "outputs": [
        {
          "output_type": "stream",
          "name": "stdout",
          "text": [
            "{1: 10, 2: 20, 3: 30, 4: 40, 5: 50, 6: 60}\n"
          ]
        }
      ]
    },
    {
      "cell_type": "markdown",
      "metadata": {
        "id": "T8q0J59UrTWt"
      },
      "source": [
        "## Exercise 10"
      ]
    },
    {
      "cell_type": "markdown",
      "metadata": {
        "id": "G9u5jjazrTWu"
      },
      "source": [
        "Write a Python program to combine two dictionary adding values for common keys."
      ]
    },
    {
      "cell_type": "code",
      "execution_count": null,
      "metadata": {
        "id": "XkOpZsy3rTWu",
        "colab": {
          "base_uri": "https://localhost:8080/"
        },
        "outputId": "4d2e2d19-7329-4c2e-b5f2-5279a691ed3b"
      },
      "outputs": [
        {
          "output_type": "stream",
          "name": "stdout",
          "text": [
            "{'a': 400, 'b': 400, 'c': 300, 'd': 400}\n"
          ]
        }
      ],
      "source": [
        "\n",
        "d1 = {'a': 100, 'b': 200, 'c':300}\n",
        "\n",
        "d2 = {'a': 300, 'b': 200, 'd':400}\n",
        "\n",
        "d3 = dict(d1) \n",
        "\n",
        "d3.update(d2) \n",
        "\n",
        "for i, j in d1.items():\n",
        "\n",
        "    for x, y in d2.items():\n",
        "\n",
        "        if i == x:\n",
        "\n",
        "            d3[i]=(j+y)\n",
        "\n",
        "print(d3)\n"
      ]
    },
    {
      "cell_type": "markdown",
      "metadata": {
        "id": "cLgLgU9zrTWv"
      },
      "source": [
        "## Exercise 11"
      ]
    },
    {
      "cell_type": "markdown",
      "metadata": {
        "id": "5L5_AwUHrTWv"
      },
      "source": [
        "\\Write a Python program to extract values from a given dictionaries and create a list of lists from those values.\n",
        "\n",
        "Original Dictionary:  \n",
        "`[{'student_id': 1, 'name': 'Jean Castro', 'class': 'V'}, {'student_id': 2, 'name': 'Lula Powell', 'class': 'V'}, {'student_id': 3, 'name': 'Brian Howell', 'class': 'VI'}, {'student_id': 4, 'name': 'Lynne Foster', 'class': 'VI'}, {'student_id': 5, 'name': 'Zachary Simon', 'class': 'VII'}]`  \n",
        "Output:  \n",
        "`[[1, 'Jean Castro', 'V'], [2, 'Lula Powell', 'V'], [3, 'Brian Howell', 'VI'], [4, 'Lynne Foster', 'VI'], [5, 'Zachary Simon', 'VII']]`"
      ]
    },
    {
      "cell_type": "code",
      "execution_count": null,
      "metadata": {
        "id": "RAnDUEV3rTWw",
        "colab": {
          "base_uri": "https://localhost:8080/"
        },
        "outputId": "4bd83ffd-0828-489c-89b7-eb7bd2e047ae"
      },
      "outputs": [
        {
          "output_type": "stream",
          "name": "stdout",
          "text": [
            "\n",
            "Original Dictionary:\n",
            "[{'student_id': 1, 'name': 'Jean Castro', 'class': 'V'}, {'student_id': 2, 'name': 'Lula Powell', 'class': 'V'}, {'student_id': 3, 'name': 'Brian Howell', 'class': 'VI'}, {'student_id': 4, 'name': 'Lynne Foster', 'class': 'VI'}, {'student_id': 5, 'name': 'Zachary Simon', 'class': 'VII'}]\n",
            "\n",
            "Extract values from the said dictionarie and create a list of lists using those values:\n",
            "\n",
            " [[1, 'Jean Castro', 'V'], [2, 'Lula Powell', 'V'], [3, 'Brian Howell', 'VI'], [4, 'Lynne Foster', 'VI'], [5, 'Zachary Simon', 'VII']]\n",
            "\n",
            " [[1, 'Jean Castro'], [2, 'Lula Powell'], [3, 'Brian Howell'], [4, 'Lynne Foster'], [5, 'Zachary Simon']]\n",
            "\n",
            " [['Jean Castro', 'V'], ['Lula Powell', 'V'], ['Brian Howell', 'VI'], ['Lynne Foster', 'VI'], ['Zachary Simon', 'VII']]\n"
          ]
        }
      ],
      "source": [
        "def test(dictt,keys):\n",
        "    return [list(d[k] for k in keys) for d in dictt] \n",
        "\n",
        "students = [\n",
        "        {'student_id': 1, 'name': 'Jean Castro', 'class': 'V'}, \n",
        "        {'student_id': 2, 'name': 'Lula Powell', 'class': 'V'},\n",
        "        {'student_id': 3, 'name': 'Brian Howell', 'class': 'VI'}, \n",
        "        {'student_id': 4, 'name': 'Lynne Foster', 'class': 'VI'}, \n",
        "        {'student_id': 5, 'name': 'Zachary Simon', 'class': 'VII'}\n",
        "        ]\n",
        "\n",
        "print(\"\\nOriginal Dictionary:\")\n",
        "print(students)\n",
        "print(\"\\nExtract values from the said dictionarie and create a list of lists using those values:\")\n",
        "print(\"\\n\",test(students,('student_id', 'name', 'class')))\n",
        "print(\"\\n\",test(students,('student_id', 'name')))\n",
        "print(\"\\n\",test(students,('name', 'class')))\n"
      ]
    }
  ],
  "metadata": {
    "kernelspec": {
      "display_name": "Python 3.10.4 64-bit",
      "language": "python",
      "name": "python3"
    },
    "language_info": {
      "codemirror_mode": {
        "name": "ipython",
        "version": 3
      },
      "file_extension": ".py",
      "mimetype": "text/x-python",
      "name": "python",
      "nbconvert_exporter": "python",
      "pygments_lexer": "ipython3",
      "version": "3.10.4"
    },
    "orig_nbformat": 4,
    "vscode": {
      "interpreter": {
        "hash": "916dbcbb3f70747c44a77c7bcd40155683ae19c65e1c03b4aa3499c5328201f1"
      }
    },
    "colab": {
      "provenance": []
    }
  },
  "nbformat": 4,
  "nbformat_minor": 0
}