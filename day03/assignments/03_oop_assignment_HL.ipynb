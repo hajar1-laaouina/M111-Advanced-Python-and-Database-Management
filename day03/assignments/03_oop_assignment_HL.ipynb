{
  "cells": [
    {
      "cell_type": "markdown",
      "metadata": {
        "id": "_3JQcpB3ZqRi"
      },
      "source": [
        "# Oriented Object Programming Exercices"
      ]
    },
    {
      "cell_type": "markdown",
      "metadata": {
        "id": "ybkqb2IFZqSG"
      },
      "source": [
        "## Exercice 1:\n",
        "\n",
        "- consedering the following code\n",
        "\n",
        "```python\n",
        "import datetime # we will use this for date objects\n",
        "\n",
        "class Person:\n",
        "\n",
        "    def __init__(self, name, surname, birthdate, address, telephone, email):\n",
        "        self.name = name\n",
        "        self.surname = surname\n",
        "        self.birthdate = birthdate\n",
        "\n",
        "        self.address = address\n",
        "        self.telephone = telephone\n",
        "        self.email = email\n",
        "\n",
        "    def age(self):\n",
        "        today = datetime.date.today()\n",
        "        age = today.year - self.birthdate.year\n",
        "\n",
        "        if today < datetime.date(today.year, self.birthdate.month, self.birthdate.day):\n",
        "            age -= 1\n",
        "\n",
        "        return age\n",
        "\n",
        "person = Person(\n",
        "    \"Jane\",\n",
        "    \"Doe\",\n",
        "    datetime.date(1992, 3, 12), # year, month, day\n",
        "    \"No. 12 Short Street, Greenville\",\n",
        "    \"555 456 0987\",\n",
        "    \"jane.doe@example.com\"\n",
        ")\n",
        "\n",
        "print(person.name)\n",
        "print(person.email)\n",
        "print(person.age())\n",
        "```\n",
        "Explain what the following variables refer to, and their scope:\n",
        "1. Person\n",
        "2. person\n",
        "3. surname\n",
        "4. self\n",
        "5. age (the function name)\n",
        "6. age (the variable used inside the function)\n",
        "7. self.email\n",
        "8. person.email"
      ]
    },
    {
      "cell_type": "markdown",
      "metadata": {
        "id": "_oSvUDT5DynT"
      },
      "source": [
        "### write your answer here\n",
        "1.  . Represent the class\\n\",\n",
        "2.  Represnt the object of the class Person\\n\",\n",
        "3.  Represent the attribut\\n\",\n",
        "4.  Represent the instance of the class.\\n\",\n",
        "5.  Represent a method\\n\",\n",
        "6.  Represent a variable\\n\",\n",
        "7.  Represent an instance attribute\\n\",\n",
        "8.  Represent an instance attribute value\"..\n"
      ]
    },
    {
      "cell_type": "markdown",
      "metadata": {
        "id": "TyXXkjd_ZqSN"
      },
      "source": [
        "## Exercise 2 \n",
        "Create a Class with instance attributes. Write a Python program to create a Vehicle class with instance attributes: \n",
        " - max_speed\n",
        " - mileage "
      ]
    },
    {
      "cell_type": "code",
      "execution_count": 1,
      "metadata": {
        "id": "E1cQKcNjZqSP",
        "outputId": "f84ddf5a-3a12-4aa6-bb6e-333c46608217",
        "colab": {
          "base_uri": "https://localhost:8080/"
        }
      },
      "outputs": [
        {
          "output_type": "stream",
          "name": "stdout",
          "text": [
            "240 18\n"
          ]
        }
      ],
      "source": [
        "class Vehicle:\n",
        "    def __init__(self, max_speed, mileage):\n",
        "        self.max_speed = max_speed\n",
        "        self.mileage = mileage\n",
        "\n",
        "modelX = Vehicle(240, 18)\n",
        "print(modelX.max_speed, modelX.mileage)"
      ]
    },
    {
      "cell_type": "markdown",
      "metadata": {
        "id": "lprLK4bXZqST"
      },
      "source": [
        "## Exercice 3\n",
        "\n",
        "Create a Vehicle class without any variables and methods "
      ]
    },
    {
      "cell_type": "code",
      "execution_count": 2,
      "metadata": {
        "id": "btzAaBiqZqSU"
      },
      "outputs": [],
      "source": [
        "class Vehicle:\n",
        "    pass"
      ]
    },
    {
      "cell_type": "markdown",
      "metadata": {
        "id": "IWZgSpVXZqSW"
      },
      "source": [
        "## Exercice 4\n",
        "\n",
        "Create a child class Bus that will inherit all of the variables and methods of the Vehicle class\n",
        "- Desired output:\n",
        "```Python\n",
        "#> Vehicle Name: School Volvo Speed: 180 Mileage: 12\n",
        "```"
      ]
    },
    {
      "cell_type": "code",
      "execution_count": 4,
      "metadata": {
        "id": "lK2DfVe8ZqSX",
        "outputId": "a962407f-cef5-43bb-f6a9-f4087d658ef4",
        "colab": {
          "base_uri": "https://localhost:8080/"
        }
      },
      "outputs": [
        {
          "output_type": "stream",
          "name": "stdout",
          "text": [
            "Vehicle Name: School Volvo Speed: 180 Mileage: 12\n"
          ]
        }
      ],
      "source": [
        "class Vehicle:\n",
        "\n",
        "    def __init__(self, name, max_speed, mileage):\n",
        "        self.name = name\n",
        "        self.max_speed = max_speed\n",
        "        self.mileage = mileage\n",
        "\n",
        "class Bus(Vehicle):\n",
        "    pass\n",
        "\n",
        "School_bus = Bus(\"School Volvo\", 180, 12)\n",
        "print(\"Vehicle Name:\", School_bus.name, \"Speed:\", School_bus.max_speed, \"Mileage:\", School_bus.mileage)"
      ]
    },
    {
      "cell_type": "markdown",
      "metadata": {
        "id": "WX65XHVOZqSZ"
      },
      "source": [
        "## Exercice 5 (Class Inheritance)\n",
        "\n",
        "- Input\n",
        "Create a Bus class that inherits from the Vehicle class. Give the capacity argument of `Bus.seating_capacity()` a default value of 50.\n",
        "\n",
        "Use the following code for your parent Vehicle class.\n",
        "```Python\n",
        "class Vehicle:\n",
        "    def __init__(self, name, max_speed, mileage):\n",
        "        self.name = name\n",
        "        self.max_speed = max_speed\n",
        "        self.mileage = mileage\n",
        "\n",
        "    def seating_capacity(self, capacity):\n",
        "        return f\"The seating capacity of a {self.name} is {capacity} passengers\"\n",
        "```\n",
        "- Desired output:\n",
        "```Python\n",
        "#> The seating capacity of a bus is 50 passengers\n",
        "```"
      ]
    },
    {
      "cell_type": "code",
      "execution_count": 5,
      "metadata": {
        "id": "Dmys7cl3ZqSa",
        "outputId": "1f2d19b6-6d17-400d-b3ba-db419f076e60",
        "colab": {
          "base_uri": "https://localhost:8080/"
        }
      },
      "outputs": [
        {
          "output_type": "stream",
          "name": "stdout",
          "text": [
            "The seating capacity of a School Volvo is 50 passengers\n"
          ]
        }
      ],
      "source": [
        "class Vehicle:\n",
        "    def __init__(self, name, max_speed, mileage):\n",
        "        self.name = name\n",
        "        self.max_speed = max_speed\n",
        "        self.mileage = mileage\n",
        "\n",
        "    def seating_capacity(self, capacity):\n",
        "        return f\"The seating capacity of a {self.name} is {capacity} passengers\"\n",
        "\n",
        "class Bus(Vehicle):\n",
        "    # assign default value to capacity\n",
        "    def seating_capacity(self, capacity=50):\n",
        "        return super().seating_capacity(capacity=50)\n",
        "\n",
        "School_bus = Bus(\"School Volvo\", 180, 12)\n",
        "print(School_bus.seating_capacity())\n"
      ]
    },
    {
      "cell_type": "markdown",
      "metadata": {
        "id": "hpUvyp0lZqSa"
      },
      "source": [
        "## Exercice 6\n",
        "\n",
        "Define a property that must have the same value for every class instance (object)\n",
        "\n",
        "Define a class attribute `\"color\"` with a default value white. I.e., Every Vehicle should be white.\n",
        "\n",
        "Use the following code for this exercise.\n",
        "\n",
        "```Python\n",
        "class Vehicle:\n",
        "\n",
        "    def __init__(self, name, max_speed, mileage):\n",
        "        self.name = name\n",
        "        self.max_speed = max_speed\n",
        "        self.mileage = mileage\n",
        "\n",
        "class Bus(Vehicle):\n",
        "    pass\n",
        "\n",
        "class Car(Vehicle):\n",
        "    pass\n",
        "```\n",
        "- Desiret output:\n",
        "```Python\n",
        "#> Color: White, Vehicle name: School Volvo, Speed: 180, Mileage: 12\n",
        "#> Color: White, Vehicle name: Audi Q5, Speed: 240, Mileage: 18\n",
        "```                "
      ]
    },
    {
      "cell_type": "code",
      "execution_count": 6,
      "metadata": {
        "id": "51Fpbyg5ZqSb",
        "outputId": "86aa76d9-b74d-431d-b23a-7fa31d7966cc",
        "colab": {
          "base_uri": "https://localhost:8080/"
        }
      },
      "outputs": [
        {
          "output_type": "stream",
          "name": "stdout",
          "text": [
            "White School Volvo Speed: 180 Mileage: 12\n",
            "White Audi Q5 Speed: 240 Mileage: 18\n"
          ]
        }
      ],
      "source": [
        "class Vehicle:\n",
        "    # Class attribute\n",
        "    color = \"White\"\n",
        "\n",
        "    def __init__(self, name, max_speed, mileage):\n",
        "        self.name = name\n",
        "        self.max_speed = max_speed\n",
        "        self.mileage = mileage\n",
        "\n",
        "class Bus(Vehicle):\n",
        "    pass\n",
        "\n",
        "class Car(Vehicle):\n",
        "    pass\n",
        "\n",
        "School_bus = Bus(\"School Volvo\", 180, 12)\n",
        "print(School_bus.color, School_bus.name, \"Speed:\", School_bus.max_speed, \"Mileage:\", School_bus.mileage)\n",
        "\n",
        "car = Car(\"Audi Q5\", 240, 18)\n",
        "print(car.color, car.name, \"Speed:\", car.max_speed, \"Mileage:\", car.mileage)"
      ]
    },
    {
      "cell_type": "markdown",
      "metadata": {
        "id": "RDp4cTLSZqSb"
      },
      "source": [
        "## Exercice 7  (Class Inheritance)\n",
        "- Input\n",
        "\n",
        "Create a Bus child class that inherits from the Vehicle class. The default fare charge of any vehicle is seating `capacity * 100`. If Vehicle is Bus instance, we need to add an extra 10% on full fare as a maintenance charge. So total fare for bus instance will become the `final amount = total fare + 10% of the total fare`.\n",
        "\n",
        "Note: The bus seating capacity is 50. so the final fare amount should be 5500. You need to override the fare() method of a Vehicle class in Bus class.\n",
        "\n",
        "Use the following code for your parent Vehicle class. We need to access the parent class from inside a method of a child class.\n",
        "```Python\n",
        "class Vehicle:\n",
        "    def __init__(self, name, mileage, capacity):\n",
        "        self.name = name\n",
        "        self.mileage = mileage\n",
        "        self.capacity = capacity\n",
        "\n",
        "    def fare(self):\n",
        "        return self.capacity * 100\n",
        "\n",
        "class Bus(Vehicle):\n",
        "    pass\n",
        "\n",
        "School_bus = Bus(\"School Volvo\", 12, 50)\n",
        "print(\"Total Bus fare is:\", School_bus.fare())\n",
        "```\n",
        "- Desired output:\n",
        "```Python\n",
        "#> Total Bus fare is: 5500.0\n",
        "```"
      ]
    },
    {
      "cell_type": "code",
      "execution_count": 7,
      "metadata": {
        "id": "8R1C52auZqSc",
        "outputId": "b1d169ed-b595-428c-9b62-2418f7774c33",
        "colab": {
          "base_uri": "https://localhost:8080/"
        }
      },
      "outputs": [
        {
          "output_type": "stream",
          "name": "stdout",
          "text": [
            "Total Bus fare is: 5500.0\n"
          ]
        }
      ],
      "source": [
        "class Vehicle:\n",
        "    def __init__(self, name, mileage, capacity):\n",
        "        self.name = name\n",
        "        self.mileage = mileage\n",
        "        self.capacity = capacity\n",
        "\n",
        "    def fare(self):\n",
        "        return self.capacity * 100\n",
        "\n",
        "class Bus(Vehicle):\n",
        "    def fare(self):\n",
        "        amount = super().fare()\n",
        "        amount += amount * 10 / 100\n",
        "        return amount\n",
        "\n",
        "School_bus = Bus(\"School Volvo\", 12, 50)\n",
        "print(\"Total Bus fare is:\", School_bus.fare())\n"
      ]
    },
    {
      "cell_type": "markdown",
      "metadata": {
        "id": "qbRZuLsxZqSd"
      },
      "source": [
        "## Exercice 8  (Check type of an object)\n",
        "\n",
        "Write a program to determine which class a given Bus object belongs to.\n",
        "- Input\n",
        "```Python\n",
        "class Vehicle:\n",
        "    def __init__(self, name, mileage, capacity):\n",
        "        self.name = name\n",
        "        self.mileage = mileage\n",
        "        self.capacity = capacity\n",
        "```\n",
        "```Python\n",
        "class Bus(Vehicle):\n",
        "    pass\n",
        "School_bus = Bus(\"School Volvo\", 12, 50)\n",
        "```\n"
      ]
    },
    {
      "cell_type": "code",
      "execution_count": 8,
      "metadata": {
        "id": "qivJ5ROUZqSd",
        "outputId": "e5059047-e969-4d99-c1ac-4462b312ad97",
        "colab": {
          "base_uri": "https://localhost:8080/"
        }
      },
      "outputs": [
        {
          "output_type": "stream",
          "name": "stdout",
          "text": [
            "True\n"
          ]
        }
      ],
      "source": [
        "class Vehicle:\n",
        "    def __init__(self, name, mileage, capacity):\n",
        "        self.name = name\n",
        "        self.mileage = mileage\n",
        "        self.capacity = capacity\n",
        "\n",
        "class Bus(Vehicle):\n",
        "    pass\n",
        "\n",
        "School_bus = Bus(\"School Volvo\", 12, 50)\n",
        "\n",
        "# Python's built-in isinstance() function\n",
        "print(isinstance(School_bus, Vehicle))"
      ]
    }
  ],
  "metadata": {
    "hide_input": false,
    "kernelspec": {
      "display_name": "Python 3",
      "language": "python",
      "name": "python3"
    },
    "language_info": {
      "codemirror_mode": {
        "name": "ipython",
        "version": 3
      },
      "file_extension": ".py",
      "mimetype": "text/x-python",
      "name": "python",
      "nbconvert_exporter": "python",
      "pygments_lexer": "ipython3",
      "version": "3.8.5"
    },
    "colab": {
      "provenance": []
    }
  },
  "nbformat": 4,
  "nbformat_minor": 0
}